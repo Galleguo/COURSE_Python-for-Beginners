{
 "cells": [
  {
   "cell_type": "markdown",
   "metadata": {},
   "source": [
    "# Finding more libraries for specific purposes\n",
    "\n",
    "Now that you know some common libraries, you might want to know how to use more libraries for your own\n",
    "code or projects. There may be some libraries pre-installed on your OS, but most of the available libraries will not be\n",
    "on your computer.  \n",
    "Here are some hints where you can look for libraries:\n",
    "\n",
    "- [20 Great Python Libraries You Must Know](https://blog.stoneriverelearning.com/20-great-python-libraries-you-must-know/)\n",
    "- [The 30 Best Python Libraries and Packages for Beginners](https://www.ubuntupit.com/best-python-libraries-and-packages-for-beginners/)\n",
    "- [The Python Package Index (PyPI)](https://pypi.org/)\n",
    "- A search engine of your choice. Works best with a precise search term, e.g.\n",
    "  [*python library for gui*](https://www.ecosia.org/search?q=python+library+for+gui)\n",
    "\n",
    "When looking for libraries in the PyPI, you can either search for a specific name or [browse](https://pypi.org/search/)\n",
    "all packages and filter by categories. To see packages for (grahpical) user interfaces for example you can filter by\n",
    "*Topic* and select *Software Development* -> *User Interfaces*.\n",
    "\n",
    "\n",
    "# [Installing](https://packaging.python.org/en/latest/guides/tool-recommendations/#installation-tool-recommendations) additional libraries - [pip](https://pip.pypa.io/en/stable/)\n",
    "\n",
    "The package **pip** (***p**ip **i**nstalls **p**ackages*) can be used to install packages from package indices like the\n",
    "*Python Package Index* mentioned before. Using the command\n",
    "\n",
    "> pip install *package_name*\n",
    "\n",
    "you can install any package from any indices and use it in your programs."
   ]
  },
  {
   "cell_type": "markdown",
   "metadata": {},
   "source": [
    "# Unit 5: Exercise\n",
    "\n",
    "The non-standard library `py-sudoku` offers the possibility to create your own sudokus.\n",
    "\n",
    "Follow the above link and have a look how to install and use the library. Install the library and create a new sudoku with a difficulty of 0.7.\n",
    "\n",
    "Display the sudoku and the solution of the sudoku.\n",
    "\n",
    "### Hint\n",
    "\n",
    "In CodeOcean we already installed the library for you. You only need to install the library on your local computer."
   ]
  },
  {
   "cell_type": "code",
   "execution_count": 4,
   "metadata": {},
   "outputs": [
    {
     "name": "stdout",
     "output_type": "stream",
     "text": [
      "+-------+-------+-------+\n",
      "| 3   7 |       | 4 1   |\n",
      "|       |       | 5 2 6 |\n",
      "|       |   4   | 7     |\n",
      "+-------+-------+-------+\n",
      "|       | 7     |   8 5 |\n",
      "| 5     |       | 3     |\n",
      "|   3 8 |   9   |       |\n",
      "+-------+-------+-------+\n",
      "|   1   |   6   | 9 5   |\n",
      "|       | 8     | 2 6   |\n",
      "|     5 |       |       |\n",
      "+-------+-------+-------+\n",
      "\n",
      "+-------+-------+-------+\n",
      "| 3 5 7 | 9 2 6 | 4 1 8 |\n",
      "| 9 8 4 | 1 3 7 | 5 2 6 |\n",
      "| 1 2 6 | 5 4 8 | 7 3 9 |\n",
      "+-------+-------+-------+\n",
      "| 4 9 2 | 7 1 3 | 6 8 5 |\n",
      "| 5 7 1 | 6 8 2 | 3 9 4 |\n",
      "| 6 3 8 | 4 9 5 | 1 7 2 |\n",
      "+-------+-------+-------+\n",
      "| 8 1 3 | 2 6 4 | 9 5 7 |\n",
      "| 7 4 9 | 8 5 1 | 2 6 3 |\n",
      "| 2 6 5 | 3 7 9 | 8 4 1 |\n",
      "+-------+-------+-------+\n",
      "\n"
     ]
    }
   ],
   "source": [
    "from sudoku import Sudoku\n",
    "# Initializes a Sudoku puzzle with 3 x 3 sub-grid and\n",
    "# generates a puzzle with half of the cells empty\n",
    "puzzle = Sudoku().difficulty(0.7)\n",
    "puzzle.show()\n",
    "solution = puzzle.solve()\n",
    "solution.show()"
   ]
  },
  {
   "cell_type": "code",
   "execution_count": null,
   "metadata": {},
   "outputs": [],
   "source": []
  }
 ],
 "metadata": {
  "interpreter": {
   "hash": "b89b5cfaba6639976dc87ff2fec6d58faec662063367e2c229c520fe71072417"
  },
  "kernelspec": {
   "display_name": "Python 3 (ipykernel)",
   "language": "python",
   "name": "python3"
  },
  "language_info": {
   "codemirror_mode": {
    "name": "ipython",
    "version": 3
   },
   "file_extension": ".py",
   "mimetype": "text/x-python",
   "name": "python",
   "nbconvert_exporter": "python",
   "pygments_lexer": "ipython3",
   "version": "3.10.4"
  }
 },
 "nbformat": 4,
 "nbformat_minor": 2
}
