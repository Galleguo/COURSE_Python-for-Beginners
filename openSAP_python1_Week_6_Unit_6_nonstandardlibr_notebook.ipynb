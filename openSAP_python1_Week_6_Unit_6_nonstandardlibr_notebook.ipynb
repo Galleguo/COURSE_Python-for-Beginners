{
 "cells": [
  {
   "cell_type": "markdown",
   "metadata": {},
   "source": [
    "# Examples of non-standard libraries\n",
    "\n",
    "There are many popular libraries which are not part of the default Python installation. You learned how to find and\n",
    "install them in the previous unit. Now a few libraries are presented. Note that this unit will not give \n",
    "a complete introduction in any of these libraries. Instead the goal of this unit is to give an overview \n",
    "of the large variety of available libraries. \n",
    "\n",
    "\n",
    "## [requests](https://docs.python-requests.org/en/latest/) - HTTP for Humans\n",
    "\n",
    "Using the `requests` library, you can connect to web servers and fetch their content.\n",
    "The [Quickstart Guide](https://docs.python-requests.org/en/latest/user/quickstart/)\n",
    "contains examples on how to use it and what you can do with it."
   ]
  },
  {
   "cell_type": "code",
   "execution_count": 1,
   "metadata": {},
   "outputs": [
    {
     "name": "stdout",
     "output_type": "stream",
     "text": [
      "The word 'Python' is used 1395 times in its Wikipedia entry!\n"
     ]
    }
   ],
   "source": [
    "import requests\n",
    "\n",
    "r = requests.get(\"https://en.wikipedia.org/wiki/Python_(programming_language)\")\n",
    "print(\n",
    "    f\"The word 'Python' is used {r.text.count('Python')} times in its Wikipedia entry!\"\n",
    ")"
   ]
  },
  {
   "cell_type": "markdown",
   "metadata": {},
   "source": [
    "## [BeautifulSoup](https://www.crummy.com/software/BeautifulSoup/bs4/doc/) - Analyzing Webpages\n",
    "\n",
    "BeautifulSoup is a library which perfectly complements requests, the library just introduced. Whereas requests offers the possibility to download webpages, BeautifulSoup supports the analysis of these webpages. (Actually, the name *BeautifulSoup* goes back to syntactically incorrect webpages containing just a \"soup of tags\"). \n",
    "\n",
    "In the following cell, the web-page from [The Guardian](https://www.theguardian.com) is first downloaded with `request.get()`. The content is then analyzed using `BeautifulSoup()`. With the help of the method `.find_all()` all headings of type `h3` are then listed and printed out."
   ]
  },
  {
   "cell_type": "code",
   "execution_count": 2,
   "metadata": {},
   "outputs": [
    {
     "name": "stdout",
     "output_type": "stream",
     "text": [
      "Australia election  Conservative government voted out after nearly a decade \n",
      "Joe Biden  US and South Korea presidents mull expanding joint military exercises \n",
      "‘Partying with penguins’  Joy as Falklands town wins coveted city status to mark Queen’s jubilee \n",
      "Live  Ukraine war: Russia bans 963 Americans from country; Finland holds talks with Turkey over Nato bid  \n",
      "Hungary  Trump shares CPAC platform with notorious racist and antisemite \n",
      "Space  Boeing’s Starliner capsule docks for first time with International Space Station \n",
      "Roe v Wade  ‘Any number of rights could be next’ if US ruling overturned, says Pete Buttigieg \n",
      "Donald Trump  Ex-US president pays $110,000 in fines after being held in contempt of court \n",
      "Brexit  Cambridge University astrophysicist loses space project role amid Brexit row \n",
      "California  ‘Extremely active’ jumping worms that can leap a foot raise alarm  \n",
      "Gas  Russia halts supplies to Finland as payments row with the west escalates \n",
      "Gas  Russia halts supplies to Finland as payments row with the west escalates \n",
      "Alexander Lebedev  UK under pressure over sanctions after Canada move \n",
      "Alexander Lebedev  UK under pressure over sanctions after Canada move \n",
      "Full report  Russian army takes control of Mariupol steel plant  \n",
      "Full report  Russian army takes control of Mariupol steel plant  \n",
      "Volodymyr Zelenskiy  Only diplomacy can end the war, says Ukrainian president  \n",
      "Volodymyr Zelenskiy  Only diplomacy can end the war, says Ukrainian president  \n",
      "Cosmopolitan no more   Russians feel sting of cultural and economic rift \n",
      "Russian army  Moscow may scrap age limits for soldiers to bolster invasion force \n",
      "‘A historic change’  How Sweden and Finland trod separate paths to Nato \n",
      "Russia  Soldier says he will accept punishment for Ukraine war crime \n",
      "Apocalypse now?   The alarming effects of the global food crisis \n",
      "Sunday beast  The artist who fashions clothes into creatures \n",
      "How to manage anxiety  How to recognise the symptoms of anxiety and get help \n",
      "Harry Styles: One Night Only review  A lively lovefest on Long Island \n",
      "Cannes 2022  Week one roundup: a return to form – and Top Gun reborn \n",
      "We are what we tweet:  Wagatha, social media and the death of privacy \n",
      "TikTok and tiaras  The youngsters leading a new generation of royalists \n",
      "Stephen Mangan and his sister Anita look back  ‘People would say he was so talented – and I’d think, no he's not' \n",
      "  \n",
      "\n",
      "\n",
      "  What do Elon Musk and Jeff Bezos have in common? An unhealthy Twitter habit \n",
      "  \n",
      "\n",
      "\n",
      "  The audience chuckled at George W Bush’s Iraq-Ukraine gaffe. I’m not laughing \n",
      "  \n",
      "\n",
      "\n",
      "  Taylor Swift: inspiring students about the importance of being earnest \n",
      "  \n",
      "\n",
      "\n",
      "  Crypto is starting to lose its cool – just look at El Salvador \n",
      "  \n",
      "\n",
      "\n",
      "  As a psychologist helping Ukrainians, I am a witness to the terrible traumas of war \n",
      "  \n",
      "\n",
      "\n",
      "  After the relentless performance art of the Australian prime minister's reign, the country needs a reset \n",
      "Live  Barcelona v Lyon – Women’s Champions League final! \n",
      "Football  Mbappé decides to stay at PSG instead of joining Real Madrid \n",
      "Rangers 2-0 Hearts  Gers secure Scottish Cup salvation after extra-time win \n",
      "Sunderland 2-0 Wycombe   Playoff final win returns Black Cats to Championship  \n",
      "F1  Leclerc produces immense lap to claim pole at Spanish Grand Prix \n",
      "  \n",
      "\n",
      "\n",
      "  Osaka returns to Paris warier and watching her words \n",
      "  \n",
      "\n",
      "\n",
      "  Thiago is the cool ball-playing scamp whether Liverpool are hot or cold \n",
      "Hull KR 8-20 Catalans  Davies’ incredible finish caps win over strugglers \n",
      "Climate crisis  Indian wheat farmers count cost of 40C heat that evokes ‘deserts of Rajasthan’ \n",
      "Extreme weather  Historic heatwave poised to hit dozens of US states this weekend \n",
      "Climate crisis  Global heating is cutting sleep across the world, study finds \n",
      "Australia  PM softened his defiant language on climate action amid trade deal with UK \n",
      "'That racist took my mother'  Buffalo mourns shooting victims as first funeral held \n",
      "Monkeypox  Viral infection could significantly disrupt UK sexual health services, top doctor says \n",
      "Nancy Pelosi  San Francisco archbishop bars Pelosi from communion over abortion stance \n",
      "Partygate  Former nurse asked to bring order to Downing Street \n",
      "England   Legal smoking age could be raised to 21 – report \n",
      "Australia’s rainiest place  The tiny town that has had just 14 dry days this year \n",
      "US immigration  Judge blocks Biden plan to lift Trump-era restrictions on asylum seekers \n",
      "Exclusive  UN human rights commissioner criticised over planned Xinjiang visit \n",
      "Rebel Wilson  Actor claims male co-star sexually harassed her: ‘It was disgusting’ \n",
      "Germany  Country eases cost-of-living crisis with €9 a month public transport ticket \n",
      "Marvel star Simu Liu  ‘I felt like my parents wanted to rid my life of joy or happiness’ \n",
      "War Pony review  Rousing tale of love and money on a Native American reservation  \n",
      "Three Thousand Years of Longing  Film about genie starring Idris Elba is partly true, says director \n",
      "On my radar  Eva Rothschild’s cultural highlights \n",
      "Kendrick Lamar: Mr. Morale & the Big Steppers review   Towards a state of grace \n",
      "Three Thousand Years of Longing review  Tilda Swinton and Idris Elba in Mad Max: fairy overload \n",
      "Olia Hercules  ‘When Russia invaded Ukraine, I couldn’t cook for the first month’ \n",
      "Blind date  \n",
      "\n",
      "\n",
      "  Oh God, he looks like one of my exes! \n",
      "Feast  Tamal Ray’s recipe for grilled aubergine salad \n",
      "Pet travel after Brexit  Taking a dog to the EU could cost £300 a time \n",
      "Travel  20 of the coolest holiday cabins in Europe \n",
      "Jacqueline Wilson  ‘How often do I have sex? I’m a children’s writer. We don’t know what sex is’ \n",
      "The Saturday quiz  What did Mary of Teck call a ‘pretty kettle of fish’? \n",
      "The age of extinction  Life at 30: the EU project that has saved species from lynx to flying squirrels \n",
      "‘What are our lives for?’  A philosopher answers kids’ existential questions \n",
      "‘It’s how we grew up’  Buffalo’s struggle to escape the shadow of segregation \n",
      "Move over, Florida  Georgia the new US battleground as Trump goes all in \n",
      "'I see my city being torn apart'  Could this tough-on-crime billionaire be LA’s next mayor? \n",
      "Finland and Sweden  How do you feel about your countries and Nato membership? \n",
      "Russians  Tell us what the mood is like in your country \n",
      "Tell us  How have you been affected by the situation in Ukraine? \n",
      "Get in touch  Share a story with the Guardian \n",
      "Mariupol  Rain of munition cascades on to Azovstal steelworks \n",
      "'Any victory is important'  Ukraine wins Eurovision 2022 \n",
      "'Half of America deprived of hope'  Thousands rally for abortion rights across the US \n",
      "'Historic day'  Finland's leaders confirm intention to join Nato \n",
      "Palestinian territories  Israeli police ​attack funeral procession of killed journalist Shireen Abu Aqleh \n",
      "Philippines  Protests erupt as son of late dictator wins presidency \n",
      "Putin's Russia  From KGB agent to Kremlin operator  \n",
      "‘They want to destroy our culture’  Russian strike hits museum in Ukrainian town \n",
      "Made in London  Solidarity Britannia \n",
      "Dogs, drizzle and democracy sausages  Australia goes to the polls – in pictures \n",
      "‘I’m pretty sure he was checking his own phone at the time’  Monaris’s best phone picture \n",
      "Twenty photographs of the week  Buffalo shooting, Ukraine war crimes trial, super moon … \n",
      "Best photographs of the day  Cannes film festival and Cape Canaveral \n",
      "Under the volcano  A year after Mount Nyiragongo’s eruption, people of Goma start to rebuild their lives  \n",
      "Photography  Contemporary African Photography prize – a shortlist selection \n",
      "Live  Ukraine war: Russia bans 963 Americans from country; Finland holds talks with Turkey over Nato bid – live \n",
      "  Trump shares CPAC Hungary platform with notorious racist and antisemite \n",
      "  Monkeypox could significantly disrupt UK sexual health services, expert says \n",
      "  Cosmopolitan no more: Russians feel sting of cultural and economic rift \n",
      "  Only diplomacy can end Ukraine war, says Volodymyr Zelenskiy \n",
      "  Russia halts gas supplies to Finland as payments row with the west escalates \n",
      "  Temperatures in parts of Spain reach highest on record for May \n",
      "  Putin’s daughter flew to Munich ‘more than 50 times’ in two years, leaks reveal \n",
      "  Apocalypse now? The alarming effects of the global food crisis \n",
      "  The invisible Ukrainian who walked 225km to safety from Mariupol \n"
     ]
    }
   ],
   "source": [
    "import requests\n",
    "from bs4 import BeautifulSoup\n",
    "\n",
    "r = requests.get(\"http://www.theguardian.com\")\n",
    "soup = BeautifulSoup(r.text)\n",
    "\n",
    "for title in soup.find_all(\"h3\"):\n",
    "    print(title.text)"
   ]
  },
  {
   "cell_type": "markdown",
   "metadata": {},
   "source": [
    "## [tkinter](https://docs.python.org/3/library/tkinter.html) - Python interface to Tcl/Tk\n",
    "\n",
    "With `tkinter` you can create a graphical user interface (*GUI*) to extend your program. The\n",
    "[documentation](https://tkdocs.com/index.html) offers a detailed description how to start and how to use it. In the\n",
    "example below, a very basic program is shown to create a window containing a text and a button to close it."
   ]
  },
  {
   "cell_type": "code",
   "execution_count": 4,
   "metadata": {},
   "outputs": [],
   "source": [
    "from tkinter import *\n",
    " \n",
    "window = Tk()\n",
    "window.title(\"GUI created with tkinter\")\n",
    "window.geometry(\"400x300\")\n",
    "\n",
    "def function_button_1():\n",
    "    print(\"Button was pressed\")\n",
    "    \n",
    "def function_button_2():\n",
    "    window.destroy()\n",
    "\n",
    "btn_1 = Button(window, \n",
    "             text=\"This is a Button\", \n",
    "             background = \"yellow\", \n",
    "             command = function_button_1)\n",
    "btn_1.grid(column=0, row=1)\n",
    "\n",
    "btn_2 = Button(window, \n",
    "             text=\"Quit\", \n",
    "             background = \"red\", \n",
    "             command = function_button_2)\n",
    "btn_2.grid(column=1, row=1)\n",
    "             \n",
    "window.mainloop()"
   ]
  },
  {
   "cell_type": "markdown",
   "metadata": {},
   "source": [
    "## Working with large data sets\n",
    "\n",
    "### [Pandas](https://pandas.pydata.org/) - Python Data Analysis Library\n",
    "\n",
    "The Python module `pandas` can be used to process data sets, which size is only limited by the memory of your computer.\n",
    "It provides methods and functions to analyze and visualize these data sets. \n",
    "\n",
    "In the next cells, you can see some brief basic usage examples how to use `pandas`. The data used in this example\n",
    "contains angular rate and acceleration measurements from an IMU *(Intertial Measuremnt Unit)* which \n",
    "was sampled with 1 kHz (1.000 measurements per second).\n",
    "\n",
    "With `head(`*`x`*`)` and `tail(`*`x`*`)`, you can return the first/last *x* lines of your data."
   ]
  },
  {
   "cell_type": "code",
   "execution_count": 2,
   "metadata": {},
   "outputs": [
    {
     "name": "stdout",
     "output_type": "stream",
     "text": [
      "<class 'pandas.core.frame.DataFrame'>\n",
      "RangeIndex: 100000 entries, 0 to 99999\n",
      "Data columns (total 6 columns):\n",
      " #   Column           Non-Null Count   Dtype  \n",
      "---  ------           --------------   -----  \n",
      " 0   X_GYRO (32 bit)  100000 non-null  float64\n",
      " 1   Y_GYRO (32 bit)  100000 non-null  float64\n",
      " 2   Z_GYRO (32 bit)  100000 non-null  float64\n",
      " 3   X_ACCL (32 bit)  100000 non-null  float64\n",
      " 4   Y_ACCL (32 bit)  100000 non-null  float64\n",
      " 5   Z_ACCL (32 bit)  100000 non-null  float64\n",
      "dtypes: float64(6)\n",
      "memory usage: 4.6 MB\n",
      "None\n",
      "   X_GYRO (32 bit)  Y_GYRO (32 bit)  Z_GYRO (32 bit)  X_ACCL (32 bit)  \\\n",
      "0        -0.153669         0.135971         0.012654        -0.014472   \n",
      "1        -0.151507        -0.060998         0.032467        -0.012555   \n",
      "2        -0.164187         0.045459         0.022438        -0.013915   \n",
      "\n",
      "   Y_ACCL (32 bit)  Z_ACCL (32 bit)  \n",
      "0        -0.008335         1.000984  \n",
      "1        -0.010355         1.002156  \n",
      "2        -0.010473         1.003313  \n"
     ]
    }
   ],
   "source": [
    "import pandas as pd\n",
    "\n",
    "dataframe = pd.read_csv(\"gyro_accel.csv\", sep=\";\") #se almacena como libreria siendo la clave los nombres de encabezados\n",
    "\n",
    "print(dataframe.info()) #cantidad de datos por columna\n",
    "\n",
    "print(dataframe.head(3)) #Numero en el argumento da la cantidad de \n",
    "#elementos desde arriba"
   ]
  },
  {
   "cell_type": "markdown",
   "metadata": {},
   "source": [
    "Or you can just select and print one specific column of your data:"
   ]
  },
  {
   "cell_type": "code",
   "execution_count": 7,
   "metadata": {},
   "outputs": [
    {
     "name": "stdout",
     "output_type": "stream",
     "text": [
      "0       -0.014472\n",
      "1       -0.012555\n",
      "2       -0.013915\n",
      "3       -0.013950\n",
      "4       -0.010974\n",
      "           ...   \n",
      "99995   -0.013331\n",
      "99996   -0.012892\n",
      "99997   -0.011378\n",
      "99998   -0.010267\n",
      "99999   -0.012856\n",
      "Name: X_ACCL (32 bit), Length: 100000, dtype: float64\n"
     ]
    }
   ],
   "source": [
    "print(dataframe[\"X_ACCL (32 bit)\"])"
   ]
  },
  {
   "cell_type": "markdown",
   "metadata": {},
   "source": [
    "You could calculate the mean value of your columns iterating through your data yourself, but with `pandas`, this takes\n",
    "just one function call:"
   ]
  },
  {
   "cell_type": "code",
   "execution_count": 4,
   "metadata": {},
   "outputs": [
    {
     "name": "stdout",
     "output_type": "stream",
     "text": [
      "X_GYRO (32 bit)   -0.158268\n",
      "Y_GYRO (32 bit)   -0.002482\n",
      "Z_GYRO (32 bit)   -0.032981\n",
      "X_ACCL (32 bit)   -0.013359\n",
      "Y_ACCL (32 bit)   -0.009486\n",
      "Z_ACCL (32 bit)    1.001941\n",
      "dtype: float64\n"
     ]
    }
   ],
   "source": [
    "mean_values = dataframe.mean()\n",
    "print(mean_values)"
   ]
  },
  {
   "cell_type": "markdown",
   "metadata": {},
   "source": [
    "## [Matplotlib](https://matplotlib.org/) - Visualization with Python\n",
    "\n",
    "With `matplotlib` you can create graphs to visualize your data. It works seamlessly with `pandas`\n",
    "and is set as a default library for plotting graphs in pandas. Have a look at the next cell to see an example visualizing\n",
    "the angular rate with a dashed line indicating the mean value."
   ]
  },
  {
   "cell_type": "code",
   "execution_count": 13,
   "metadata": {},
   "outputs": [
    {
     "data": {
      "image/png": "[encoded data removed]",
      "text/plain": [
       "<Figure size 1080x432 with 1 Axes>"
      ]
     },
     "metadata": {
      "needs_background": "light"
     },
     "output_type": "display_data"
    }
   ],
   "source": [
    "import matplotlib.pyplot as plt\n",
    "\n",
    "# set plot size for good visibility\n",
    "plt.figure(figsize=(15, 6)) #Determino tamaño de ventana de plot\n",
    "\n",
    "dataframe[\"Z_GYRO (32 bit)\"].plot(color=\"blue\") #barchar plot\n",
    "\n",
    "# plot mean line for z_gyro values and show plot\n",
    "plt.axhline(y=mean_values[2], color=\"red\", linewidth=2, linestyle=\"--\")\n",
    "plt.xlabel(\"[Frame/s]\")\n",
    "plt.ylabel(\"Angular velocity [rad/s]\")\n",
    "plt.show()"
   ]
  },
  {
   "cell_type": "markdown",
   "metadata": {},
   "source": [
    "Of course, it is also possible to use `matplotlib` directly. in the following cell a large number of normally \n",
    "distribute values are generated. These values are then displayed using a histogram."
   ]
  },
  {
   "cell_type": "code",
   "execution_count": 11,
   "metadata": {},
   "outputs": [
    {
     "name": "stdout",
     "output_type": "stream",
     "text": [
      "[116.90185606035085, 115.05318847712667, 117.11382891322987, 121.16138144378651, 102.79095879016353, 82.63338622258846, 59.24991136205253, 94.6707700131878, 100.05767939034638, 103.04962384164702]\n"
     ]
    },
    {
     "data": {
      "image/png": "[encoded data removed]",
      "text/plain": [
       "<Figure size 432x288 with 1 Axes>"
      ]
     },
     "metadata": {
      "needs_background": "light"
     },
     "output_type": "display_data"
    }
   ],
   "source": [
    "import random\n",
    "import matplotlib.pyplot as plt\n",
    "\n",
    "random_values = []\n",
    "for _ in range(100000):\n",
    "    random_values.append(random.gauss(mu=100, sigma=20))\n",
    "\n",
    "print(random_values[:10])\n",
    "\n",
    "plt.hist(random_values, bins=500, alpha=0.5)\n",
    "plt.ylabel(\"count\")\n",
    "plt.grid(True)"
   ]
  },
  {
   "cell_type": "markdown",
   "metadata": {},
   "source": [
    "# Assignment Week 6 (Part 2)\n",
    "\n",
    "### Accessing the Apple iTunes Search Service\n",
    "\n",
    "In this assignment you are going to build a Python program to access the Apple iTunes Search Service. This service can be used to search information about musicians, albums, songs and so on.\n",
    "\n",
    "Using the following URL, a search for the term ramones and for the entity type album is performed: https://itunes.apple.com/search?term=ramones&entity=album\n",
    "\n",
    "Other possible entity types are musicArtist, musicTrack or song. Below is an (abbreviated) example result of the service:\n",
    "\n",
    "    {\n",
    "    \"resultCount\": 1,\n",
    "    \"results\": [\n",
    "        {\n",
    "        \"wrapperType\": \"collection\",\n",
    "        \"collectionType\": \"Album\",\n",
    "        \"artistId\": 60715,\n",
    "        \"amgArtistId\": 5223,\n",
    "        \"artistName\": \"Ramones\",\n",
    "        \"collectionName\": \"Ramones\",\n",
    "        \"collectionPrice\": 9.99,\n",
    "        \"collectionExplicitness\": \"notExplicit\",\n",
    "        \"trackCount\": 14,\n",
    "        \"copyright\": \"℗ 1976 Sire Records. Marketed by Rhino Entertainment Company, a Warner Music Group Company.\",\n",
    "        \"country\": \"USA\",\n",
    "        \"currency\": \"USD\",\n",
    "        \"releaseDate\": \"1976-04-23T08:00:00Z\",\n",
    "        \"primaryGenreName\": \"Punk\"\n",
    "        }\n",
    "    ]\n",
    "    }\n",
    "    \n",
    "The response in the example above consists of one result (`resultCount` is 1). This result is the album \"Ramones\" (element `collectionName`) by the artist \"Ramones\" (element `artistName`). The response is in JSON format.\n",
    "\n",
    "The Requests library can be used to invoke the Apple iTunes Search Service. In order to perform a search a GET request needs to be performed. This is done using the `get()` function of the Requests library. After that, the method `json()` of the Requests library can be used to map the response from JSON to the Python 🐍 data types `dict` and `list`.\n",
    "\n",
    "### Assignment\n",
    "\n",
    "Write a program that asks the user for a search term. Perform a search using the iTunes search service for the entity type album. The program should then print how many search results where returned. For each result print the artist name, the album name and track count.\n",
    "\n",
    "Below is an example execution of the program. Note that the output is abbreviated.\n",
    "\n",
    "    Please enter a search term: cash\n",
    "    The search returned 50 results.\n",
    "    Artist: Luke Bryan - Album: Crash My Party - Track Count: 13\n",
    "    Artist: Johnny Cash - Album: The Essential Johnny Cash - Track Count: 36\n",
    "    Artist: Dave Matthews Band - Album: Crash - Track Count: 12\n",
    "    \n",
    "### Hints\n",
    "\n",
    "- In Code Ocean it is not possible to access the iTunes search API. Therefore you should write and test your program on your own computer e.g. in a Jupyter notebook.\n",
    "- Our tests in Code Ocean use a mock object to check your program. Therefore only the `get()` function and the `json()` method are supported. All other functions and methods of the Requests library will not work."
   ]
  },
  {
   "cell_type": "code",
   "execution_count": 31,
   "metadata": {},
   "outputs": [
    {
     "name": "stdout",
     "output_type": "stream",
     "text": [
      "Please enter a search term: aerosmith\n",
      "The search returned 50 results.\n",
      "Artist: Aerosmith - Album: Aerosmith - Track Count: 8\n",
      "Artist: Aerosmith - Album: Aerosmith - Track Count: 8\n",
      "Artist: Aerosmith - Album: Aerosmith - Track Count: 8\n",
      "Artist: Aerosmith - Album: Aerosmith - Track Count: 8\n",
      "Artist: Aerosmith - Album: Aerosmith - Track Count: 8\n",
      "Artist: Aerosmith - Album: Aerosmith - Track Count: 8\n",
      "Artist: Aerosmith - Album: Aerosmith - Track Count: 8\n",
      "Artist: Aerosmith - Album: Aerosmith - Track Count: 8\n",
      "Artist: Aerosmith - Album: Aerosmith's Greatest Hits - Track Count: 10\n",
      "Artist: Run-DMC - Album: Raising Hell - Track Count: 12\n",
      "Artist: Stuffy Shmitt - Album: Nothing Is Real - Track Count: 12\n",
      "Artist: Aerosmith - Album: Aerosmith's Greatest Hits - Track Count: 10\n",
      "Artist: Straight Outta Junior High - Album: Six Stories - Track Count: 6\n",
      "Artist: Aerosmith - Album: Aerosmith's Greatest Hits - Track Count: 10\n",
      "Artist: Aerosmith - Album: Aerosmith's Greatest Hits - Track Count: 10\n",
      "Artist: Aerosmith - Album: Armageddon - The Album - Track Count: 14\n",
      "Artist: Aerosmith - Album: Aerosmith's Greatest Hits - Track Count: 10\n",
      "Artist: Run-DMC - Album: Greatest Hits - Track Count: 18\n",
      "Artist: Aerosmith - Album: Aerosmith's Greatest Hits - Track Count: 10\n",
      "Artist: Aerosmith - Album: Aerosmith's Greatest Hits - Track Count: 10\n",
      "Artist: Aerosmith - Album: Aerosmith's Greatest Hits - Track Count: 10\n",
      "Artist: Aerosmith - Album: Aerosmith's Greatest Hits - Track Count: 10\n",
      "Artist: Aerosmith - Album: Aerosmith's Greatest Hits - Track Count: 10\n",
      "Artist: Aerosmith - Album: 20th Century Masters - The Millennium Collection: The Best of Aerosmith - Track Count: 12\n",
      "Artist: Aerosmith - Album: 20th Century Masters - The Millennium Collection: The Best of Aerosmith - Track Count: 12\n",
      "Artist: Aerosmith - Album: 20th Century Masters - The Millennium Collection: The Best of Aerosmith - Track Count: 12\n",
      "Artist: Aerosmith - Album: 20th Century Masters - The Millennium Collection: The Best of Aerosmith - Track Count: 12\n",
      "Artist: Aerosmith - Album: 20th Century Masters - The Millennium Collection: The Best of Aerosmith - Track Count: 12\n",
      "Artist: Aerosmith - Album: Big Ones - Track Count: 15\n",
      "Artist: Aerosmith - Album: A Little South of Sanity (Live) - Track Count: 11\n",
      "Artist: Aerosmith - Album: 20th Century Masters - The Millennium Collection: The Best of Aerosmith - Track Count: 12\n",
      "Artist: Aerosmith - Album: 20th Century Masters - The Millennium Collection: The Best of Aerosmith - Track Count: 12\n",
      "Artist: Aerosmith - Album: 20th Century Masters - The Millennium Collection: The Best of Aerosmith - Track Count: 12\n",
      "Artist: Aerosmith - Album: 20th Century Masters - The Millennium Collection: The Best of Aerosmith - Track Count: 12\n",
      "Artist: Aerosmith - Album: Big Ones - Track Count: 15\n",
      "Artist: Aerosmith - Album: Big Ones - Track Count: 15\n",
      "Artist: Aerosmith - Album: 20th Century Masters - The Millennium Collection: The Best of Aerosmith - Track Count: 12\n",
      "Artist: Aerosmith - Album: Big Ones - Track Count: 15\n",
      "Artist: Aerosmith - Album: Big Ones - Track Count: 15\n",
      "Artist: Aerosmith - Album: 20th Century Masters - The Millennium Collection: The Best of Aerosmith - Track Count: 12\n",
      "Artist: Aerosmith - Album: Big Ones - Track Count: 15\n",
      "Artist: Aerosmith - Album: Big Ones - Track Count: 15\n",
      "Artist: Aerosmith - Album: 20th Century Masters - The Millennium Collection: The Best of Aerosmith - Track Count: 12\n",
      "Artist: Aerosmith - Album: Big Ones - Track Count: 15\n",
      "Artist: Aerosmith - Album: Big Ones - Track Count: 15\n",
      "Artist: Aerosmith - Album: Big Ones - Track Count: 15\n",
      "Artist: Aerosmith - Album: A Little South of Sanity (Live) - Track Count: 11\n",
      "Artist: Run-DMC - Album: Raising Hell (Deluxe Version) - Track Count: 17\n",
      "Artist: Aerosmith - Album: Armageddon - The Album - Track Count: 14\n",
      "Artist: Aerosmith - Album: Big Ones - Track Count: 15\n"
     ]
    }
   ],
   "source": [
    "import requests\n",
    "\n",
    "search_key = input(\"Please enter a search term: \")\n",
    "r = requests.get(\"https://itunes.apple.com/search?term=\"+search_key)\n",
    "\n",
    "r_json = r.json() #(Muestra resultado)\n",
    "\n",
    "print(\"The search returned\", r_json[\"resultCount\"], \"results.\")\n",
    "for search_item in r_json[\"results\"]:\n",
    "    print(\"Artist: \" + search_item[\"artistName\"], \"Album: \" + search_item[\"collectionName\"], \"Track Count: \" + str(search_item[\"trackCount\"]), sep = \" - \")"
   ]
  },
  {
   "attachments": {
    "image-2.png": {
     "image/png": "[encoded data removed]"
    },
    "image.png": {
     "image/png": "[encoded data removed]"
    }
   },
   "cell_type": "markdown",
   "metadata": {},
   "source": [
    "# Bonus Exercise: Week 6\n",
    "\n",
    "### Compute pi using a random number generator\n",
    "\n",
    "The number π (Pi) can be calculated using random numbers. Suppose you have a circle with radius 1 which is inscribed in a square with a side length of 2 (see figure below). Then the square has an area of 4 (2 * 2) and the circle has an area of π (r = 1, thus π * r² = π).\n",
    "\n",
    "![image.png](attachment:image.png)\n",
    "\n",
    "If thousands of points are randomly created within the square, then some points are inside the square and inside the circle, others are inside the square and not inside the circle. The situation can be simplified if you just consider the upper right quadrant of the above figure. This square has a side length of 1. Each point within the square can be described by the coordinates x and y where (0 < x, y < 1). If x² + y² < 1, then a point specified by (x, y) lies within the circle.\n",
    "\n",
    "![image-2.png](attachment:image-2.png)\n",
    "\n",
    "As the relation between the sizes of circle and square is π/4, the relation between the points in the circle and the points in the square must be π/4 as well. Using this formula, one can now use a random number generator to calculate π.\n",
    "\n",
    "### Your task\n",
    "\n",
    "Using the library `random` create 10,000 random points inside the square. That means generate 10,000 random pairs of values for x and y. The random value must be between 0 and 1 in order for a point to be inside the square. For each point check if x² + y² is < 1. If this is the case, then the point is within the circle. Count the total number of points and the points which are in the circle. Use these numbers to calculate π. Finally compare your calculated value of π with the value of π found in the `math` library. Do this by printing the calculated value of π, the value from the math library as well as the difference.\n",
    "\n",
    "Below is an example execution of the program. Note that your values might be different.\n",
    "\n",
    "    Calculated value of π: 3.1396\n",
    "    Value of π from math library: 3.141592653589793\n",
    "    Difference: -0.0019926535897929476\n",
    "\n",
    "### Additional Challenge\n",
    "\n",
    "Can you solve the bonus exercise without a for loop using list comprehension?"
   ]
  },
  {
   "cell_type": "code",
   "execution_count": 41,
   "metadata": {},
   "outputs": [
    {
     "name": "stdout",
     "output_type": "stream",
     "text": [
      "Calculated value of π: 3.1456\n",
      "Value of π from math library: 3.141592653589793\n",
      "Difference: 0.004007346410206836\n"
     ]
    }
   ],
   "source": [
    "import random\n",
    "import math as m\n",
    "\n",
    "rand_list_x = [random.random() for _ in range(10000)]\n",
    "rand_list_y = [random.random() for _ in range(10000)]\n",
    "\n",
    "in_circle = 0\n",
    "\n",
    "for i in range(10000):\n",
    "    aux_result = (rand_list_x[i]**2) + (rand_list_y[i]**2)\n",
    "    if aux_result < 1:\n",
    "        in_circle += 1\n",
    "\n",
    "calculated_pi = 4* in_circle / 10000\n",
    "\n",
    "print(\"Calculated value of π:\", calculated_pi)\n",
    "print(\"Value of π from math library:\", m.pi)\n",
    "print(\"Difference:\", calculated_pi - m.pi)"
   ]
  },
  {
   "cell_type": "code",
   "execution_count": null,
   "metadata": {},
   "outputs": [],
   "source": []
  }
 ],
 "metadata": {
  "interpreter": {
   "hash": "b89b5cfaba6639976dc87ff2fec6d58faec662063367e2c229c520fe71072417"
  },
  "kernelspec": {
   "display_name": "Python 3 (ipykernel)",
   "language": "python",
   "name": "python3"
  },
  "language_info": {
   "codemirror_mode": {
    "name": "ipython",
    "version": 3
   },
   "file_extension": ".py",
   "mimetype": "text/x-python",
   "name": "python",
   "nbconvert_exporter": "python",
   "pygments_lexer": "ipython3",
   "version": "3.10.4"
  }
 },
 "nbformat": 4,
 "nbformat_minor": 2
}
