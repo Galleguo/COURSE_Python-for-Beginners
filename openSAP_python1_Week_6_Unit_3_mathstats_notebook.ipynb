{
 "cells": [
  {
   "cell_type": "markdown",
   "metadata": {},
   "source": [
    "# The `math`, the `random` and the `statistics` libraries \n",
    "This unit focuses on using different functionalities provided by the `math`, `random` and `statistics` libraries. \n",
    "These libraries are part of the [Python Standard Library](https://docs.python.org/3/library/index.html).\n",
    "In order to explore these libraries two exercises are used. To familiarize yourself with the Python Standard Library and\n",
    "the documentation it is highly recommended that you try to solve the exercises yourself before looking at the solutions.\n",
    "\n",
    "\n",
    "## Exercises\n",
    "\n",
    "### Exercise 1 - The `math` library\n",
    "\n",
    "Write a program that performs the following tasks:\n",
    "1. Get a integer number from the user\n",
    "1. Calculate the factorial ($x!$) of this number\n",
    "1. Calculate the natural logarithm and the logarithm to the base 10 of the number\n",
    "\n",
    "Explore the [documentation](https://docs.python.org/3/library/math.html) of the `math` library to find suitable\n",
    "functions."
   ]
  },
  {
   "cell_type": "code",
   "execution_count": 2,
   "metadata": {},
   "outputs": [
    {
     "name": "stdout",
     "output_type": "stream",
     "text": [
      "Please enter a number: 10\n",
      "3628800 - 2.302585092994046 - 1.0\n"
     ]
    }
   ],
   "source": [
    "# Implement your solution here\n",
    "import math\n",
    "number = int(input(\"Please enter a number: \"))\n",
    "fac_number = math.factorial(number)\n",
    "ln_number = math.log(number)\n",
    "log_number = math.log10(number)\n",
    "\n",
    "print(fac_number, ln_number, log_number, sep = \" - \")"
   ]
  },
  {
   "cell_type": "markdown",
   "metadata": {},
   "source": [
    "### Exercise 2 - The `random` and `statistics` libraries\n",
    "\n",
    "Use functions from the `random` and `statistics` libraries to\n",
    "- generate a list of 100 random integer numbers between 1 and 10\n",
    "- calculate the mean of this list\n",
    "- calculate the median of this list\n",
    "- calculate the variance of this list\n",
    "\n",
    "Explore the documentation of the [`random`](https://docs.python.org/3/library/random.html) and the\n",
    "[`statistics`](https://docs.python.org/3/library/statistics.html) libraries to find suitable functions. "
   ]
  },
  {
   "cell_type": "code",
   "execution_count": 4,
   "metadata": {},
   "outputs": [
    {
     "name": "stdout",
     "output_type": "stream",
     "text": [
      "[10, 5, 8, 4, 8, 7, 8, 5, 5, 6, 2, 10, 6, 2, 6, 6, 7, 9, 3, 3, 4, 5, 3, 9, 1, 8, 9, 6, 10, 10, 4, 3, 4, 7, 7, 10, 9, 1, 1, 2, 3, 3, 10, 4, 7, 2, 9, 2, 5, 9, 2, 2, 6, 4, 3, 3, 6, 9, 4, 7, 10, 1, 4, 9, 5, 10, 10, 9, 8, 2, 9, 5, 7, 2, 1, 6, 1, 7, 1, 1, 1, 1, 10, 6, 10, 5, 8, 9, 4, 9, 5, 4, 8, 7, 6, 6, 5, 3, 8, 3]\n"
     ]
    }
   ],
   "source": [
    "# Implement your solution here\n",
    "import random\n",
    "import statistics as s\n",
    "#rand_list = []\n",
    "\n",
    "rand_list = [random.randint(1, 10) for _ in range(100)]\n",
    "#for i in range(100):\n",
    "#    rand_list.append(random.randint(1, 10))\n",
    "\n",
    "print(rand_list)\n",
    "mean_list = s.mean(rand_list)\n",
    "median_list = s.median(rand_list)\n",
    "variance_list = s.variance(rand_list)\n"
   ]
  },
  {
   "cell_type": "markdown",
   "metadata": {},
   "source": [
    "# Unit 3: Exercise\n",
    "\n",
    "Import the `random` library and have a look at the function `gauss()` which gives back a random float number. Which parameters are required? Write a function `gaussian_distribution()` that returns a list of 1000 random numbers with a mean of 100 and a standard deviation of 10. Invoke this function.\n",
    "\n",
    "For the resulting list calculate and print the mean and the standard deviation using the respective functions from the `statistics` library. Re-run the program and observe, if the values change.\n",
    "\n",
    "Below is the output of an example execution of the program. Note that the values of the standard derivation and the mean might be different in your case.\n",
    "\n",
    "`Mean: 100.15215154056546\n",
    "Standard Deviation: 9.93532937167394`"
   ]
  },
  {
   "cell_type": "code",
   "execution_count": 8,
   "metadata": {},
   "outputs": [
    {
     "name": "stdout",
     "output_type": "stream",
     "text": [
      "mean: 5.06254189467356\n",
      "standard deviation: 1.4495854862012016\n"
     ]
    }
   ],
   "source": [
    "import random\n",
    "import statistics as s\n",
    "\n",
    "def gaussian_distribution():\n",
    "    rand_list = [random.gauss(5, 1.4) for _ in range(1000)]\n",
    "    return rand_list\n",
    "\n",
    "num_list = gaussian_distribution()\n",
    "mean_list = s.mean(num_list)\n",
    "std_list = s.stdev(num_list)\n",
    "\n",
    "print(\"mean:\", mean_list)\n",
    "print(\"standard deviation:\", std_list)"
   ]
  },
  {
   "cell_type": "code",
   "execution_count": null,
   "metadata": {},
   "outputs": [],
   "source": []
  }
 ],
 "metadata": {
  "interpreter": {
   "hash": "9fd0e282e2343d8b38b390b803aabc7fcea80a18eee8e5bd23ce64f6435b30a1"
  },
  "kernelspec": {
   "display_name": "Python 3 (ipykernel)",
   "language": "python",
   "name": "python3"
  },
  "language_info": {
   "codemirror_mode": {
    "name": "ipython",
    "version": 3
   },
   "file_extension": ".py",
   "mimetype": "text/x-python",
   "name": "python",
   "nbconvert_exporter": "python",
   "pygments_lexer": "ipython3",
   "version": "3.10.4"
  }
 },
 "nbformat": 4,
 "nbformat_minor": 2
}
