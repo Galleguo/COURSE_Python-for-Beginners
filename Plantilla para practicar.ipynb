{
 "cells": [
  {
   "cell_type": "code",
   "execution_count": 43,
   "id": "a3d1a425",
   "metadata": {},
   "outputs": [
    {
     "name": "stdout",
     "output_type": "stream",
     "text": [
      "{1234: ['Laura', 'supercalo']}\n",
      "{1234: ['Laura', 'supercalo'], 1523: ['Santi', 'supercala']}\n",
      "{1234: ['Laura', 'supercalo'], 1523: ['Santi', 'supercala'], 151515: ['Amelia', 'supercalu']}\n"
     ]
    }
   ],
   "source": [
    "dic_old = ([\"Laura\", 1234,\"supercalo\"], [\"Santi\", 1523,\"supercala\"], [\"Amelia\",151515,\"supercalu\"])\n",
    "dic_new = {}\n",
    "\n",
    "for item in dic_old:\n",
    "    key = item[1]\n",
    "    del item[1]\n",
    "    dic_new[key] = item\n",
    "    print(dic_new)\n"
   ]
  },
  {
   "cell_type": "code",
   "execution_count": 38,
   "id": "170aa4b3",
   "metadata": {},
   "outputs": [
    {
     "name": "stdout",
     "output_type": "stream",
     "text": [
      "[1412, 1252, 3125, 1234]\n",
      "[459, 1412, 1252, 3125, 1234]\n"
     ]
    }
   ],
   "source": [
    "frase = [1412,1252,3125,1234]\n",
    "print(frase)\n",
    "\n",
    "frase.insert(0, 459)\n",
    "print(frase)"
   ]
  },
  {
   "cell_type": "code",
   "execution_count": 54,
   "id": "b9dc105a",
   "metadata": {},
   "outputs": [
    {
     "name": "stdout",
     "output_type": "stream",
     "text": [
      " 12.65 ademas de 153.6\n",
      "153.56 ademas de  12.7\n"
     ]
    }
   ],
   "source": [
    "a = 12.65123\n",
    "b = 153.5555\n",
    "print(f\"{a:6.2f} ademas de {b:5.1f}\")\n",
    "print(f\"{b:6.2f} ademas de {a:5.1f}\")"
   ]
  },
  {
   "cell_type": "code",
   "execution_count": 63,
   "id": "de8d4297",
   "metadata": {},
   "outputs": [
    {
     "name": "stdout",
     "output_type": "stream",
     "text": [
      "coca\n",
      "18\n"
     ]
    }
   ],
   "source": [
    "b = 18\n",
    "if b>10:\n",
    "    print(\"coca\")\n",
    "elif b>15:\n",
    "    print(\"otro\")\n",
    "print(b)"
   ]
  },
  {
   "cell_type": "code",
   "execution_count": 74,
   "id": "fcb8cf5c",
   "metadata": {},
   "outputs": [
    {
     "name": "stdout",
     "output_type": "stream",
     "text": [
      "[1, 1, 1, 2, 2, 2, 3]\n",
      "[1, 1, 1, 2, 2, 3]\n"
     ]
    }
   ],
   "source": [
    "lista = [1, 1, 1, 2, 2, 2, 3]\n",
    "print(lista)\n",
    "lista.remove(2)\n",
    "print(lista)\n"
   ]
  },
  {
   "cell_type": "code",
   "execution_count": 94,
   "id": "dbc4321a",
   "metadata": {},
   "outputs": [
    {
     "name": "stdout",
     "output_type": "stream",
     "text": [
      "['potter,', 'hermione,', 'tu', 'mama']\n"
     ]
    }
   ],
   "source": [
    "listas = \"potter, hermione, tu mama\"\n",
    "print(listas.split())"
   ]
  },
  {
   "cell_type": "code",
   "execution_count": 105,
   "id": "e0b5c206",
   "metadata": {},
   "outputs": [
    {
     "name": "stdout",
     "output_type": "stream",
     "text": [
      "16\n"
     ]
    }
   ],
   "source": [
    "def f1(i):\n",
    "    return i**2\n",
    "\n",
    "def f2(j):\n",
    "    return (f1(j+1))\n",
    "\n",
    "print(f2(3))"
   ]
  },
  {
   "cell_type": "code",
   "execution_count": null,
   "id": "64e1dec5",
   "metadata": {},
   "outputs": [],
   "source": []
  }
 ],
 "metadata": {
  "kernelspec": {
   "display_name": "Python 3 (ipykernel)",
   "language": "python",
   "name": "python3"
  },
  "language_info": {
   "codemirror_mode": {
    "name": "ipython",
    "version": 3
   },
   "file_extension": ".py",
   "mimetype": "text/x-python",
   "name": "python",
   "nbconvert_exporter": "python",
   "pygments_lexer": "ipython3",
   "version": "3.10.4"
  }
 },
 "nbformat": 4,
 "nbformat_minor": 5
}
